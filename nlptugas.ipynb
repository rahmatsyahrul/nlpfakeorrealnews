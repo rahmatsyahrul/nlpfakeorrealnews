{
  "nbformat": 4,
  "nbformat_minor": 0,
  "metadata": {
    "colab": {
      "name": "nlptugasrevisi.ipynb",
      "provenance": [],
      "collapsed_sections": []
    },
    "kernelspec": {
      "name": "python3",
      "display_name": "Python 3"
    },
    "accelerator": "GPU"
  },
  "cells": [
    {
      "cell_type": "code",
      "metadata": {
        "id": "A-EvfUIgTir5",
        "colab_type": "code",
        "colab": {}
      },
      "source": [
        "import pandas as pd\n",
        "df = pd.read_csv('/content/drive/My Drive/Colab/sample_data/fake_or_real_news.csv')\n",
        "df = df.drop(columns='title')\n",
        "df = df.drop(columns='Unnamed: 0')\n"
      ],
      "execution_count": 39,
      "outputs": []
    },
    {
      "cell_type": "code",
      "metadata": {
        "id": "Wo2_bamCUefY",
        "colab_type": "code",
        "colab": {
          "base_uri": "https://localhost:8080/",
          "height": 204
        },
        "outputId": "94939bde-f914-46c7-ed81-845c594ee0fe"
      },
      "source": [
        "df.head()"
      ],
      "execution_count": 40,
      "outputs": [
        {
          "output_type": "execute_result",
          "data": {
            "text/html": [
              "<div>\n",
              "<style scoped>\n",
              "    .dataframe tbody tr th:only-of-type {\n",
              "        vertical-align: middle;\n",
              "    }\n",
              "\n",
              "    .dataframe tbody tr th {\n",
              "        vertical-align: top;\n",
              "    }\n",
              "\n",
              "    .dataframe thead th {\n",
              "        text-align: right;\n",
              "    }\n",
              "</style>\n",
              "<table border=\"1\" class=\"dataframe\">\n",
              "  <thead>\n",
              "    <tr style=\"text-align: right;\">\n",
              "      <th></th>\n",
              "      <th>text</th>\n",
              "      <th>label</th>\n",
              "    </tr>\n",
              "  </thead>\n",
              "  <tbody>\n",
              "    <tr>\n",
              "      <th>0</th>\n",
              "      <td>Daniel Greenfield, a Shillman Journalism Fello...</td>\n",
              "      <td>FAKE</td>\n",
              "    </tr>\n",
              "    <tr>\n",
              "      <th>1</th>\n",
              "      <td>Google Pinterest Digg Linkedin Reddit Stumbleu...</td>\n",
              "      <td>FAKE</td>\n",
              "    </tr>\n",
              "    <tr>\n",
              "      <th>2</th>\n",
              "      <td>U.S. Secretary of State John F. Kerry said Mon...</td>\n",
              "      <td>REAL</td>\n",
              "    </tr>\n",
              "    <tr>\n",
              "      <th>3</th>\n",
              "      <td>— Kaydee King (@KaydeeKing) November 9, 2016 T...</td>\n",
              "      <td>FAKE</td>\n",
              "    </tr>\n",
              "    <tr>\n",
              "      <th>4</th>\n",
              "      <td>It's primary day in New York and front-runners...</td>\n",
              "      <td>REAL</td>\n",
              "    </tr>\n",
              "  </tbody>\n",
              "</table>\n",
              "</div>"
            ],
            "text/plain": [
              "                                                text label\n",
              "0  Daniel Greenfield, a Shillman Journalism Fello...  FAKE\n",
              "1  Google Pinterest Digg Linkedin Reddit Stumbleu...  FAKE\n",
              "2  U.S. Secretary of State John F. Kerry said Mon...  REAL\n",
              "3  — Kaydee King (@KaydeeKing) November 9, 2016 T...  FAKE\n",
              "4  It's primary day in New York and front-runners...  REAL"
            ]
          },
          "metadata": {
            "tags": []
          },
          "execution_count": 40
        }
      ]
    },
    {
      "cell_type": "code",
      "metadata": {
        "id": "Ra_Abp_bUsKa",
        "colab_type": "code",
        "colab": {
          "base_uri": "https://localhost:8080/",
          "height": 419
        },
        "outputId": "a40e33b6-8ca5-402a-f70b-2d52408e9a69"
      },
      "source": [
        "category = pd.get_dummies(df.label)\n",
        "df_baru = pd.concat([df, category], axis=1)\n",
        "df_baru = df_baru.drop(columns='label')\n",
        "df_baru"
      ],
      "execution_count": 41,
      "outputs": [
        {
          "output_type": "execute_result",
          "data": {
            "text/html": [
              "<div>\n",
              "<style scoped>\n",
              "    .dataframe tbody tr th:only-of-type {\n",
              "        vertical-align: middle;\n",
              "    }\n",
              "\n",
              "    .dataframe tbody tr th {\n",
              "        vertical-align: top;\n",
              "    }\n",
              "\n",
              "    .dataframe thead th {\n",
              "        text-align: right;\n",
              "    }\n",
              "</style>\n",
              "<table border=\"1\" class=\"dataframe\">\n",
              "  <thead>\n",
              "    <tr style=\"text-align: right;\">\n",
              "      <th></th>\n",
              "      <th>text</th>\n",
              "      <th>FAKE</th>\n",
              "      <th>REAL</th>\n",
              "    </tr>\n",
              "  </thead>\n",
              "  <tbody>\n",
              "    <tr>\n",
              "      <th>0</th>\n",
              "      <td>Daniel Greenfield, a Shillman Journalism Fello...</td>\n",
              "      <td>1</td>\n",
              "      <td>0</td>\n",
              "    </tr>\n",
              "    <tr>\n",
              "      <th>1</th>\n",
              "      <td>Google Pinterest Digg Linkedin Reddit Stumbleu...</td>\n",
              "      <td>1</td>\n",
              "      <td>0</td>\n",
              "    </tr>\n",
              "    <tr>\n",
              "      <th>2</th>\n",
              "      <td>U.S. Secretary of State John F. Kerry said Mon...</td>\n",
              "      <td>0</td>\n",
              "      <td>1</td>\n",
              "    </tr>\n",
              "    <tr>\n",
              "      <th>3</th>\n",
              "      <td>— Kaydee King (@KaydeeKing) November 9, 2016 T...</td>\n",
              "      <td>1</td>\n",
              "      <td>0</td>\n",
              "    </tr>\n",
              "    <tr>\n",
              "      <th>4</th>\n",
              "      <td>It's primary day in New York and front-runners...</td>\n",
              "      <td>0</td>\n",
              "      <td>1</td>\n",
              "    </tr>\n",
              "    <tr>\n",
              "      <th>...</th>\n",
              "      <td>...</td>\n",
              "      <td>...</td>\n",
              "      <td>...</td>\n",
              "    </tr>\n",
              "    <tr>\n",
              "      <th>6330</th>\n",
              "      <td>The State Department told the Republican Natio...</td>\n",
              "      <td>0</td>\n",
              "      <td>1</td>\n",
              "    </tr>\n",
              "    <tr>\n",
              "      <th>6331</th>\n",
              "      <td>The ‘P’ in PBS Should Stand for ‘Plutocratic’ ...</td>\n",
              "      <td>1</td>\n",
              "      <td>0</td>\n",
              "    </tr>\n",
              "    <tr>\n",
              "      <th>6332</th>\n",
              "      <td>Anti-Trump Protesters Are Tools of the Oligar...</td>\n",
              "      <td>1</td>\n",
              "      <td>0</td>\n",
              "    </tr>\n",
              "    <tr>\n",
              "      <th>6333</th>\n",
              "      <td>ADDIS ABABA, Ethiopia —President Obama convene...</td>\n",
              "      <td>0</td>\n",
              "      <td>1</td>\n",
              "    </tr>\n",
              "    <tr>\n",
              "      <th>6334</th>\n",
              "      <td>Jeb Bush Is Suddenly Attacking Trump. Here's W...</td>\n",
              "      <td>0</td>\n",
              "      <td>1</td>\n",
              "    </tr>\n",
              "  </tbody>\n",
              "</table>\n",
              "<p>6335 rows × 3 columns</p>\n",
              "</div>"
            ],
            "text/plain": [
              "                                                   text  FAKE  REAL\n",
              "0     Daniel Greenfield, a Shillman Journalism Fello...     1     0\n",
              "1     Google Pinterest Digg Linkedin Reddit Stumbleu...     1     0\n",
              "2     U.S. Secretary of State John F. Kerry said Mon...     0     1\n",
              "3     — Kaydee King (@KaydeeKing) November 9, 2016 T...     1     0\n",
              "4     It's primary day in New York and front-runners...     0     1\n",
              "...                                                 ...   ...   ...\n",
              "6330  The State Department told the Republican Natio...     0     1\n",
              "6331  The ‘P’ in PBS Should Stand for ‘Plutocratic’ ...     1     0\n",
              "6332   Anti-Trump Protesters Are Tools of the Oligar...     1     0\n",
              "6333  ADDIS ABABA, Ethiopia —President Obama convene...     0     1\n",
              "6334  Jeb Bush Is Suddenly Attacking Trump. Here's W...     0     1\n",
              "\n",
              "[6335 rows x 3 columns]"
            ]
          },
          "metadata": {
            "tags": []
          },
          "execution_count": 41
        }
      ]
    },
    {
      "cell_type": "code",
      "metadata": {
        "id": "8EWp46c7U1Cq",
        "colab_type": "code",
        "colab": {}
      },
      "source": [
        "news = df_baru['text'].values\n",
        "label = df_baru[['FAKE', 'REAL']].values\n"
      ],
      "execution_count": 42,
      "outputs": []
    },
    {
      "cell_type": "code",
      "metadata": {
        "id": "87CE_OQVU5mZ",
        "colab_type": "code",
        "colab": {}
      },
      "source": [
        "from sklearn.model_selection import train_test_split\n",
        "\n",
        "news_latih, news_test, label_latih, label_test = train_test_split(news, label, test_size=0.2)"
      ],
      "execution_count": 43,
      "outputs": []
    },
    {
      "cell_type": "code",
      "metadata": {
        "id": "6bhbBEvOVAEP",
        "colab_type": "code",
        "colab": {}
      },
      "source": [
        "from tensorflow.keras.preprocessing.text import Tokenizer\n",
        "from tensorflow.keras.preprocessing.sequence import pad_sequences\n",
        " \n",
        "tokenizer = Tokenizer(num_words=6335, oov_token='x')\n",
        "tokenizer.fit_on_texts(news_latih) \n",
        " \n",
        "sekuens_latih = tokenizer.texts_to_sequences(news_latih)\n",
        "sekuens_test = tokenizer.texts_to_sequences(news_test)\n",
        " \n",
        "padded_latih = pad_sequences(sekuens_latih)\n",
        "padded_test = pad_sequences(sekuens_test)\n"
      ],
      "execution_count": 44,
      "outputs": []
    },
    {
      "cell_type": "code",
      "metadata": {
        "id": "D7sN8f77VIAU",
        "colab_type": "code",
        "colab": {}
      },
      "source": [
        "import tensorflow as tf\n",
        "model = tf.keras.Sequential([\n",
        "    tf.keras.layers.Embedding(input_dim=6335, output_dim=16),\n",
        "    tf.keras.layers.LSTM(64),\n",
        "    tf.keras.layers.Dense(64, activation='relu'),\n",
        "    tf.keras.layers.Dense(32, activation='relu'),\n",
        "    tf.keras.layers.Dense(2, activation='sigmoid')\n",
        "])\n"
      ],
      "execution_count": 45,
      "outputs": []
    },
    {
      "cell_type": "code",
      "metadata": {
        "id": "_85z16xdnV8c",
        "colab_type": "code",
        "colab": {}
      },
      "source": [
        "model.compile(loss='binary_crossentropy',\n",
        "              optimizer=tf.optimizers.Adam(),\n",
        "              metrics=['accuracy'])"
      ],
      "execution_count": 46,
      "outputs": []
    },
    {
      "cell_type": "code",
      "metadata": {
        "id": "EfcqAPR8TxBS",
        "colab_type": "code",
        "colab": {}
      },
      "source": [
        "class myCallback(tf.keras.callbacks.Callback):\n",
        "  def on_epoch_end(self, epoch, logs={}):\n",
        "    if(logs.get('val_accuracy')>0.91):\n",
        "      print(\"\\nAkurasi telah mencapai >91%!\")\n",
        "      self.model.stop_training = True\n",
        "callbacks = myCallback()"
      ],
      "execution_count": 47,
      "outputs": []
    },
    {
      "cell_type": "code",
      "metadata": {
        "id": "xnkI0A42VMhZ",
        "colab_type": "code",
        "colab": {
          "base_uri": "https://localhost:8080/",
          "height": 697
        },
        "outputId": "cb89b890-39b1-4d65-c7dc-a37052cb3d95"
      },
      "source": [
        "num_epochs = 20\n",
        "history = model.fit(padded_latih, label_latih, epochs=num_epochs, \n",
        "          validation_data=(padded_test, label_test), verbose=1,\n",
        "          callbacks=[callbacks])"
      ],
      "execution_count": 48,
      "outputs": [
        {
          "output_type": "stream",
          "text": [
            "Epoch 1/20\n",
            "159/159 [==============================] - 316s 2s/step - loss: 0.5986 - accuracy: 0.6902 - val_loss: 0.4027 - val_accuracy: 0.8122\n",
            "Epoch 2/20\n",
            "159/159 [==============================] - 316s 2s/step - loss: 0.2823 - accuracy: 0.8860 - val_loss: 0.3081 - val_accuracy: 0.8674\n",
            "Epoch 3/20\n",
            "159/159 [==============================] - 318s 2s/step - loss: 0.1495 - accuracy: 0.9475 - val_loss: 0.3497 - val_accuracy: 0.8579\n",
            "Epoch 4/20\n",
            "159/159 [==============================] - 319s 2s/step - loss: 0.0855 - accuracy: 0.9732 - val_loss: 0.3842 - val_accuracy: 0.8674\n",
            "Epoch 5/20\n",
            "159/159 [==============================] - 319s 2s/step - loss: 0.0578 - accuracy: 0.9805 - val_loss: 0.4374 - val_accuracy: 0.8713\n",
            "Epoch 6/20\n",
            "159/159 [==============================] - 318s 2s/step - loss: 0.0181 - accuracy: 0.9955 - val_loss: 0.6387 - val_accuracy: 0.8721\n",
            "Epoch 7/20\n",
            "159/159 [==============================] - 317s 2s/step - loss: 0.0313 - accuracy: 0.9899 - val_loss: 0.6567 - val_accuracy: 0.8564\n",
            "Epoch 8/20\n",
            "159/159 [==============================] - 315s 2s/step - loss: 0.0283 - accuracy: 0.9891 - val_loss: 0.6572 - val_accuracy: 0.8808\n",
            "Epoch 9/20\n",
            "159/159 [==============================] - 316s 2s/step - loss: 0.0081 - accuracy: 0.9974 - val_loss: 0.8091 - val_accuracy: 0.8666\n",
            "Epoch 10/20\n",
            "159/159 [==============================] - 314s 2s/step - loss: 0.0165 - accuracy: 0.9941 - val_loss: 0.7966 - val_accuracy: 0.8650\n",
            "Epoch 11/20\n",
            "159/159 [==============================] - 314s 2s/step - loss: 0.0220 - accuracy: 0.9913 - val_loss: 0.7413 - val_accuracy: 0.8516\n",
            "Epoch 12/20\n",
            "159/159 [==============================] - 315s 2s/step - loss: 0.0157 - accuracy: 0.9943 - val_loss: 0.7799 - val_accuracy: 0.8611\n",
            "Epoch 13/20\n",
            "159/159 [==============================] - 315s 2s/step - loss: 0.0056 - accuracy: 0.9980 - val_loss: 0.8771 - val_accuracy: 0.8540\n",
            "Epoch 14/20\n",
            "159/159 [==============================] - 314s 2s/step - loss: 0.0019 - accuracy: 0.9994 - val_loss: 0.9830 - val_accuracy: 0.8579\n",
            "Epoch 15/20\n",
            "159/159 [==============================] - 315s 2s/step - loss: 0.0060 - accuracy: 0.9980 - val_loss: 0.9593 - val_accuracy: 0.8390\n",
            "Epoch 16/20\n",
            "159/159 [==============================] - 315s 2s/step - loss: 0.0054 - accuracy: 0.9984 - val_loss: 1.1121 - val_accuracy: 0.8564\n",
            "Epoch 17/20\n",
            "159/159 [==============================] - 315s 2s/step - loss: 0.0215 - accuracy: 0.9919 - val_loss: 0.8289 - val_accuracy: 0.8635\n",
            "Epoch 18/20\n",
            "159/159 [==============================] - 315s 2s/step - loss: 0.0144 - accuracy: 0.9941 - val_loss: 0.8512 - val_accuracy: 0.8642\n",
            "Epoch 19/20\n",
            "159/159 [==============================] - 315s 2s/step - loss: 0.0061 - accuracy: 0.9978 - val_loss: 0.9454 - val_accuracy: 0.8627\n",
            "Epoch 20/20\n",
            "159/159 [==============================] - 315s 2s/step - loss: 0.0021 - accuracy: 0.9998 - val_loss: 1.0120 - val_accuracy: 0.8603\n"
          ],
          "name": "stdout"
        }
      ]
    }
  ]
}